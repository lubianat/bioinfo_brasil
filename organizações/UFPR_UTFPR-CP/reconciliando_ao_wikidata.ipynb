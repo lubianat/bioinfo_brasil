{
 "cells": [
  {
   "cell_type": "markdown",
   "metadata": {},
   "source": [
    "Reconciliação foi feita através do Google Sheets, usando o add-on \"Wikipedia and Wikidata Tools\"\n",
    "\n",
    "Nome completo foi utilizado como input para a função \"=WIKIDATASEARCH()\" e identificadores obtidos foram verificados com a função \"=WIKIDATADESCRIPTION\". \n",
    "\n",
    "Pesquisadores não mapeados automaticamente foram reconciliados pela plataforma Author Disambiguator."
   ]
  },
  {
   "cell_type": "code",
   "execution_count": 1,
   "metadata": {},
   "outputs": [],
   "source": [
    "from time import gmtime, strftime\n",
    "import pandas as pd\n",
    "\n",
    "profs = pd.read_csv(\"docentes_reconciliados.csv\")\n",
    "profs[\"lattes_id\"] = profs[\"lattes\"].str.replace(\n",
    "    \"http://lattes.cnpq.br/\", \"\", regex=True\n",
    "    )"
   ]
  },
  {
   "cell_type": "code",
   "execution_count": 2,
   "metadata": {},
   "outputs": [],
   "source": [
    "today_date = strftime(\"+%Y-%m-%dT00:00:00Z/11\", gmtime())\n",
    "ref_url = \"http://www.utfpr.edu.br/cursos/coordenacoes/stricto-sensu/ppgab/area-academica/docentes\"\n",
    "grad_program = \"Q110097471\"\n",
    "\n",
    "affiliation_ref = f'S854|\"{ref_url}\"|S813|{today_date}'\n",
    "gender_ref = \"S887|Q69652498\"\n",
    "\n",
    "\n",
    "with open(\"profs_QS.qs\", \"w\") as qs:\n",
    "    for _, row in profs.iterrows():\n",
    "\n",
    "        gender = f\"{row['researcherID']}|P21|{row['genderID']}|\"\n",
    "        affiliation = f\"{row['researcherID']}|P1416|{grad_program}|P2868|Q121594|\"\n",
    "        lattes = f\"{row['researcherID']}|P1007|\\\"{row['lattes_id']}\\\"|\"\n",
    "        lattes_ref = f\"S854|\\\"{row['lattes']}\\\"\"\n",
    "\n",
    "        d_en = f\"{row['researcherID']}|Den|\\\"researcher\\\"\\n\"\n",
    "        occupation = f\"{row['researcherID']}|P106|Q1650915\\n\"\n",
    "\n",
    "        generals = f\"{d_en}{occupation}\"\n",
    "        gender_statement = f\"{gender}{gender_ref}\\n\"\n",
    "        affiliation_statement = f\"{affiliation}{affiliation_ref}\\n\"\n",
    "        lattes_statement = f\"{lattes}{lattes_ref}\\n\"\n",
    "\n",
    "        qs.write(\n",
    "            f\"{generals}{gender_statement}{affiliation_statement}{lattes_statement}\\n\"\n",
    "        )\n"
   ]
  }
 ],
 "metadata": {
  "interpreter": {
   "hash": "ca678ed36604398770f43639c6d760ce005f30297e42bb70c88c9ef1b07b342f"
  },
  "kernelspec": {
   "display_name": "Python 3.9.9 64-bit ('.venv': venv)",
   "language": "python",
   "name": "python3"
  },
  "language_info": {
   "codemirror_mode": {
    "name": "ipython",
    "version": 3
   },
   "file_extension": ".py",
   "mimetype": "text/x-python",
   "name": "python",
   "nbconvert_exporter": "python",
   "pygments_lexer": "ipython3",
   "version": "3.9.9"
  },
  "orig_nbformat": 4
 },
 "nbformat": 4,
 "nbformat_minor": 2
}
