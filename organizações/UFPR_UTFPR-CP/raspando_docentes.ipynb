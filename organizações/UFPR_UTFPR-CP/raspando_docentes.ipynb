{
 "cells": [
  {
   "cell_type": "code",
   "execution_count": 1,
   "metadata": {},
   "outputs": [],
   "source": [
    "import re\n",
    "import csv\n",
    "import requests\n",
    "import lxml.html\n",
    "\n",
    "from bs4 import BeautifulSoup"
   ]
  },
  {
   "cell_type": "code",
   "execution_count": 2,
   "metadata": {},
   "outputs": [],
   "source": [
    "url = \"http://www.utfpr.edu.br/cursos/coordenacoes/stricto-sensu/ppgab/area-academica/docentes\"\n",
    "\n",
    "page = requests.get(url)"
   ]
  },
  {
   "cell_type": "code",
   "execution_count": 3,
   "metadata": {},
   "outputs": [],
   "source": [
    "tree = lxml.html.fromstring(page.content)\n",
    "\n",
    "elements = \"\".join([\n",
    "    lxml.html.tostring(el, method=\"html\", encoding=\"unicode\") for el \n",
    "    in tree.xpath('//div[@id=\"parent-fieldname-text\"]/h2[last()]/preceding-sibling::*')\n",
    "    ])\n",
    "\n",
    "docentes = BeautifulSoup(elements, 'html.parser').find_all('p')"
   ]
  },
  {
   "cell_type": "code",
   "execution_count": 4,
   "metadata": {},
   "outputs": [],
   "source": [
    "with open(\"docentes.csv\", \"w\") as csvfile:\n",
    "    docente_writer = csv.writer(csvfile, dialect=\"unix\")\n",
    "    docente_writer.writerow([\"docente\", \"lattes\"])\n",
    "    for row in docentes:\n",
    "        if len(row.text.strip()) != 0:\n",
    "            prof = re.sub(r\"\\(.*\\)*\", \"\", row.text).strip()\n",
    "            lattes = row.find(\"a\")[\"href\"]\n",
    "            docente_writer.writerow([prof, lattes])\n"
   ]
  }
 ],
 "metadata": {
  "interpreter": {
   "hash": "ca678ed36604398770f43639c6d760ce005f30297e42bb70c88c9ef1b07b342f"
  },
  "kernelspec": {
   "display_name": "Python 3.9.9 64-bit ('.venv': venv)",
   "language": "python",
   "name": "python3"
  },
  "language_info": {
   "codemirror_mode": {
    "name": "ipython",
    "version": 3
   },
   "file_extension": ".py",
   "mimetype": "text/x-python",
   "name": "python",
   "nbconvert_exporter": "python",
   "pygments_lexer": "ipython3",
   "version": "3.9.9"
  },
  "orig_nbformat": 4
 },
 "nbformat": 4,
 "nbformat_minor": 2
}
